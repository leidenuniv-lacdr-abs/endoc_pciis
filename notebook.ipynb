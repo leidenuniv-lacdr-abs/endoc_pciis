{
 "cells": [
  {
   "cell_type": "code",
   "execution_count": null,
   "id": "b98c2860",
   "metadata": {},
   "outputs": [],
   "source": [
    "\n",
    "#######################################\n",
    "# Imports\n",
    "#######################################\n",
    "# Access to files & folders\n",
    "import os\n",
    "from pathlib import Path\n",
    "\n",
    "from src.pciis_msmsproject import PciisMsmsExperiment\n"
   ]
  },
  {
   "cell_type": "code",
   "execution_count": null,
   "id": "8cf45fae",
   "metadata": {},
   "outputs": [],
   "source": [
    "\n",
    "%%javascript // disable scolling in notebook\n",
    "IPython.OutputArea.auto_scroll_threshold = 9999"
   ]
  },
  {
   "cell_type": "code",
   "execution_count": null,
   "id": "2850355f",
   "metadata": {},
   "outputs": [],
   "source": [
    "### Experiment\n",
    "# \n",
    "# The experiment contains information about where the \n",
    "# raw files are, and what settings to use.\n",
    "#\n",
    "###\n",
    "experiment = PciisMsmsExperiment(\n",
    "    path=Path(os.path.join('experiments','example')),\n",
    "    name=\"Publication experiment\"\n",
    ")"
   ]
  },
  {
   "cell_type": "code",
   "execution_count": null,
   "id": "91c71f6a",
   "metadata": {},
   "outputs": [],
   "source": [
    "### Targets and PCI_IS\n",
    "# \n",
    "# Here we tell the experiment what targets and pciis \n",
    "# information to use. This information is stored in \n",
    "# text files in the experiment folder\n",
    "#\n",
    "###\n",
    "experiment.set_targets(\n",
    "    targets_file=Path( # read in the targets from the targets file\n",
    "        os.path.join('experiments','example','targets.csv')\n",
    "    )\n",
    ")\n",
    "\n",
    "experiment.set_pciis(\n",
    "    pciis_file=Path( # read in the pciis from the pciis file\n",
    "        os.path.join('experiments','example','pciis.csv')\n",
    "    )\n",
    ")"
   ]
  },
  {
   "cell_type": "code",
   "execution_count": null,
   "id": "4459e1fd",
   "metadata": {},
   "outputs": [],
   "source": [
    "\n",
    "### Read in the data\n",
    "# \n",
    "# First all transition stored in the mzML are collect in a\n",
    "# Pandas DataFrame. Then the signal is scaled to the specified\n",
    "# scans/second and a Savitzky-Golay filter is applied.\n",
    "#\n",
    "###\n",
    "experiment.load_data(\n",
    "    mzml_file_path=Path(\n",
    "        os.path.join('experiments','example','mzML')\n",
    "    ),\n",
    "    scans_per_second=8, # up/down-scale signal to match the specified scans/second\n",
    "    window_length=5, # Savitzky-Golay filter: length of the filter window\n",
    "    polyorder=3 # Savitzky-Golay filter: order of the polynomial\n",
    ")"
   ]
  },
  {
   "cell_type": "code",
   "execution_count": null,
   "id": "b0eea34a",
   "metadata": {},
   "outputs": [],
   "source": [
    "\n",
    "### PCI_IS ratio\n",
    "# \n",
    "# Add PCI_IS data to DataFrame and calculate the ratio between the\n",
    "# target and PCI_IS signal (scan by scan) \n",
    "#\n",
    "###\n",
    "experiment.apply_pciis()"
   ]
  },
  {
   "cell_type": "code",
   "execution_count": null,
   "id": "fffb9f51",
   "metadata": {},
   "outputs": [],
   "source": [
    "### Alignement of retention time\n",
    "# \n",
    "# Not all signals align very well, apply retention time correction\n",
    "# to determine the area easier and more accurate.\n",
    "# Alignment is done using a reference signal, in this case we\n",
    "# use sample: inj043_PlDiv2_LOW.mzML\n",
    "#\n",
    "###\n",
    "experiment.apply_rt_correction(\n",
    "    reference_file=Path(\n",
    "        os.path.join('experiments','example','mzML','inj043_PlDiv2_LOW.mzML')\n",
    "    )\n",
    ")"
   ]
  },
  {
   "cell_type": "code",
   "execution_count": null,
   "id": "b3f9a0ea",
   "metadata": {},
   "outputs": [],
   "source": [
    "### Find features, and determine the area\n",
    "# \n",
    "# Find the peak apex of all features, see which matches best with our target\n",
    "# and calculate the area of that feature based on the raw signal, ratio, and\n",
    "# aligned ratio to compare the effect of PCI_IS correction and alignement.\n",
    "#\n",
    "###\n",
    "experiment.find_peaks()"
   ]
  },
  {
   "cell_type": "code",
   "execution_count": null,
   "id": "8732861e",
   "metadata": {},
   "outputs": [],
   "source": [
    "\n",
    "### Visualization of results\n",
    "# \n",
    "# Plot the:\n",
    "#  - raw signal, with PCI_IS signals\n",
    "#  - ratio of signal/PCI_IS\n",
    "#  - ratio of signal/PCI_IS (aligned)\n",
    "# and the mean area/ratio + error bars before and after PCI_IS correction.\n",
    "#\n",
    "###\n",
    "experiment.plot_results(\n",
    "    rt_window=15, \n",
    "    width=380, \n",
    "    height=250\n",
    ")"
   ]
  }
 ],
 "metadata": {
  "interpreter": {
   "hash": "b52a1200dff0e61c4a219fa4dd745605d7e5a6676701478d00fa0ac5df10c706"
  },
  "kernelspec": {
   "display_name": "Python 3 (ipykernel)",
   "language": "python",
   "name": "python3"
  },
  "language_info": {
   "codemirror_mode": {
    "name": "ipython",
    "version": 3
   },
   "file_extension": ".py",
   "mimetype": "text/x-python",
   "name": "python",
   "nbconvert_exporter": "python",
   "pygments_lexer": "ipython3",
   "version": "3.9.7"
  }
 },
 "nbformat": 4,
 "nbformat_minor": 5
}
